{
 "cells": [
  {
   "cell_type": "code",
   "execution_count": null,
   "metadata": {},
   "outputs": [],
   "source": [
    "import os, numpy as np, pandas as pd, cartopy.crs as ccrs, bokeh\n",
    "import holoviews as hv, geoviews as gv, datashader as ds\n",
    "from holoviews.operation.datashader import rasterize, datashade\n",
    "from colorcet import bmy\n",
    "from holoviews.util import Dynamic\n",
    "hv.extension('bokeh', width=100)\n"
   ]
  },
  {
   "cell_type": "code",
   "execution_count": null,
   "metadata": {},
   "outputs": [],
   "source": [
    "df = pd.read_hdf('./data/rgi62_era5_itmix_df.h5', 'df')\n",
    "df['latdeg'] = df.CenLat\n",
    "df.tail()"
   ]
  },
  {
   "cell_type": "code",
   "execution_count": null,
   "metadata": {},
   "outputs": [],
   "source": [
    "data = gv.Points(df, [('CenLon', 'Longitude'), ('CenLat', 'Latitude')],\n",
    "                     [('era5_avg_pcp', 'Annual Precipitation (mm/yr)'),\n",
    "                      ('Area', 'Area'),  ('latdeg', 'Latitude (deg)'),\n",
    "                      ('era5_avg_temp_at_zmed', 'Annual Temperature at avg. altitude'), \n",
    "                      ('Zmed', 'Elevation')])\n",
    "total_area = df.Area.sum()\n",
    "print(data, len(data), total_area)"
   ]
  },
  {
   "cell_type": "code",
   "execution_count": null,
   "metadata": {},
   "outputs": [],
   "source": [
    "data = gv.Dataset(gv.operation.project_points(data))"
   ]
  },
  {
   "cell_type": "code",
   "execution_count": null,
   "metadata": {},
   "outputs": [],
   "source": [
    "geo_kw    = dict(aggregator=ds.sum('Area'), x_sampling=1000, y_sampling=1000)\n",
    "elev_kw   = dict(cmap='#7d3c98')\n",
    "temp_kw   = dict(num_bins=50, adjoin=False, normed=False, bin_range=data.range('era5_avg_temp_at_zmed'))\n",
    "prcp_kw   = dict(num_bins=50, adjoin=False, normed=False, bin_range=data.range('era5_avg_pcp'))\n",
    "\n",
    "size_opts = dict(min_height=400, min_width=600, responsive=True)\n",
    "geo_opts  = dict(size_opts, cmap=bmy, global_extent=False, logz=True, colorbar=True)\n",
    "elev_opts = dict(size_opts, show_grid=True)\n",
    "temp_opts = dict(size_opts, fill_color='#f1948a', default_tools=[], toolbar=None, alpha=1.0)\n",
    "prcp_opts = dict(size_opts, fill_color='#85c1e9', default_tools=[], toolbar=None, alpha=1.0)"
   ]
  },
  {
   "cell_type": "code",
   "execution_count": null,
   "metadata": {},
   "outputs": [],
   "source": [
    "geo_bg = gv.tile_sources.EsriImagery.options(alpha=0.6, bgcolor=\"black\")\n",
    "geopoints = data.to(gv.Points, ['CenLon', 'CenLat'], ['Area'], []).options(**geo_opts).redim.range(area_km2=(0, 3000))\n",
    "\n",
    "(geo_bg*rasterize(geopoints, **geo_kw).options(**geo_opts) + \n",
    " datashade(data.to(hv.Scatter, 'Zmed','latdeg', []), **elev_kw).options(**elev_opts) + \n",
    " data.hist('era5_avg_temp_at_zmed', **temp_kw).options(**temp_opts) +\n",
    " data.hist('era5_avg_pcp',              **prcp_kw).options(**prcp_opts)).cols(2)\n",
    "\n"
   ]
  },
  {
   "cell_type": "code",
   "execution_count": null,
   "metadata": {},
   "outputs": [],
   "source": [
    "def geo(data):   return gv.Points(data, crs=ccrs.GOOGLE_MERCATOR).options(alpha=1)\n",
    "def elev(data):  return data.to(hv.Scatter, 'Zmed', 'latdeg', [])\n",
    "def temp(data):  return data.hist('era5_avg_temp_at_zmed', **temp_kw).options(**temp_opts)\n",
    "def prcp(data):  return data.hist('era5_avg_pcp',              **prcp_kw).options(**prcp_opts)\n",
    "def count(data): return hv.Div('<p style=\"font-size:20px\">Glaciers selected: {}'.format(len(data)) + \"<br>\" +\n",
    "                               'Area: {:.0f} km² ({:.1f}%)</font>'.format(np.sum(data['Area']), np.sum(data['Area']) / total_area * 100)).options(height=40)\n"
   ]
  },
  {
   "cell_type": "code",
   "execution_count": null,
   "metadata": {},
   "outputs": [],
   "source": [
    "static_geo  = rasterize(geo(data),   **geo_kw).options(alpha=0.1, tools=['hover', 'box_select'], active_tools=['box_select'], **geo_opts)\n",
    "static_elev = datashade(elev(data), **elev_kw).options(alpha=0.1, tools=[         'box_select'], active_tools=['box_select'], **elev_opts)\n",
    "static_temp = temp(data).options(alpha=0.1)\n",
    "static_prcp = prcp(data).options(alpha=0.1)"
   ]
  },
  {
   "cell_type": "code",
   "execution_count": null,
   "metadata": {},
   "outputs": [],
   "source": [
    "def combine_selections(**kwargs):\n",
    "    \"\"\"\n",
    "    Combines selections on all available plots into a single selection by index.\n",
    "    \"\"\"\n",
    "    if all(not v for v in kwargs.values()):\n",
    "        return slice(None)\n",
    "    selection = {}\n",
    "    for key, bounds in kwargs.items():\n",
    "        if bounds is None:\n",
    "            continue\n",
    "        elif len(bounds) == 2:\n",
    "            selection[key] = bounds\n",
    "        else:\n",
    "            xbound, ybound = key.split('__')\n",
    "            selection[xbound] = bounds[0], bounds[2]\n",
    "            selection[ybound] = bounds[1], bounds[3]\n",
    "    return sorted(set(data.select(**selection).data.index))\n",
    "\n",
    "def select_data(**kwargs):\n",
    "    return data.iloc[combine_selections(**kwargs)] if kwargs else data\n",
    "\n"
   ]
  },
  {
   "cell_type": "code",
   "execution_count": null,
   "metadata": {},
   "outputs": [],
   "source": [
    "select_data(CenLon__CenLat=(3000000, 9000000, 5000000, 11000000)).dframe()"
   ]
  },
  {
   "cell_type": "code",
   "execution_count": null,
   "metadata": {},
   "outputs": [],
   "source": [
    "select_data(CenLon__CenLat=(3000000, 9000000, 5000000, 11000000), era5_avg_temp_at_zmed=(-5,-2)).dframe()"
   ]
  },
  {
   "cell_type": "code",
   "execution_count": null,
   "metadata": {},
   "outputs": [],
   "source": [
    "from holoviews.streams import Stream, BoundsXY, BoundsX\n",
    "\n",
    "geo_bounds  = BoundsXY(source=static_geo,  rename={'bounds':  'CenLon__CenLat'})\n",
    "elev_bounds = BoundsXY(source=static_elev, rename={'bounds':  'Zmed__latdeg'})\n",
    "temp_bounds = BoundsX( source=static_temp, rename={'boundsx': 'era5_avg_temp_at_zmed'})\n",
    "prcp_bounds = BoundsX( source=static_prcp, rename={'boundsx': 'era5_avg_pcp'})\n",
    "\n",
    "selections  = [geo_bounds, elev_bounds, temp_bounds, prcp_bounds]\n",
    "\n"
   ]
  },
  {
   "cell_type": "code",
   "execution_count": null,
   "metadata": {},
   "outputs": [],
   "source": [
    "dyn_data  = hv.DynamicMap(select_data, streams=selections)\n",
    "\n",
    "dyn_geo   = rasterize(dyn_data.apply(geo),  **geo_kw).options( **geo_opts)\n",
    "dyn_elev  = datashade(dyn_data.apply(elev), **elev_kw).options(**elev_opts)\n",
    "dyn_temp  =           dyn_data.apply(temp)\n",
    "dyn_prcp  =           dyn_data.apply(prcp)\n",
    "dyn_count =           dyn_data.apply(count)\n",
    "\n"
   ]
  },
  {
   "cell_type": "code",
   "execution_count": null,
   "metadata": {},
   "outputs": [],
   "source": [
    "geomap = geo_bg * static_geo  * dyn_geo\n",
    "elevation       = static_elev * dyn_elev\n",
    "temperature     = static_temp * dyn_temp\n",
    "precipitation   = static_prcp * dyn_prcp"
   ]
  },
  {
   "cell_type": "code",
   "execution_count": null,
   "metadata": {},
   "outputs": [],
   "source": [
    "def clear_selections(arg=None):\n",
    "    geo_bounds.update(bounds=None)\n",
    "    elev_bounds.update(bounds=None)\n",
    "    temp_bounds.update(boundsx=None)\n",
    "    prcp_bounds.update(boundsx=None)\n",
    "    Stream.trigger(selections)"
   ]
  },
  {
   "cell_type": "code",
   "execution_count": null,
   "metadata": {},
   "outputs": [],
   "source": [
    "import panel as pn\n",
    "pn.extension()\n",
    "\n",
    "clear_button = pn.widgets.Button(name='Clear selection')\n",
    "clear_button.param.watch(clear_selections, 'clicks');"
   ]
  },
  {
   "cell_type": "code",
   "execution_count": null,
   "metadata": {},
   "outputs": [],
   "source": [
    "title       = '<div style=\"font-size:35px\">World glaciers explorer</div>'\n",
    "instruction = 'Box-select on each plot to subselect; clear selection to reset.<br>' + \\\n",
    "              'See the <a href=\"https://github.com/panel-demos/glaciers\">Jupyter notebook</a> source code for how to build apps like this!'\n",
    "oggm_logo   = '<a href=\"https://oggm.org\"><img src=\"https://raw.githubusercontent.com/OGGM/oggm/master/docs/_static/logos/oggm_s_alpha.png\" width=170></a>'\n",
    "pn_logo     = '<a href=\"https://panel.pyviz.org\"><img src=\"http://panel.pyviz.org/_static/logo_stacked.png\" width=140></a>'"
   ]
  },
  {
   "cell_type": "code",
   "execution_count": null,
   "metadata": {},
   "outputs": [],
   "source": [
    "header = pn.Row(pn.Pane(oggm_logo),  pn.layout.Spacer(width=30), \n",
    "                pn.Column(pn.Pane(title, width=400), pn.Pane(instruction, width=500)),\n",
    "                pn.layout.HSpacer(), pn.Column(pn.Pane(dyn_count), pn.layout.Spacer(height=20), clear_button), \n",
    "                pn.Pane(pn_logo, width=140))\n",
    "\n",
    "pn.Column(header,  pn.Row(geomap, elevation), pn.Row(temperature, precipitation), width_policy='max', height_policy='max').servable()"
   ]
  },
  {
   "cell_type": "code",
   "execution_count": null,
   "metadata": {},
   "outputs": [],
   "source": []
  }
 ],
 "metadata": {
  "kernelspec": {
   "display_name": "Python 3",
   "language": "python",
   "name": "python3"
  },
  "language_info": {
   "codemirror_mode": {
    "name": "ipython",
    "version": 3
   },
   "file_extension": ".py",
   "mimetype": "text/x-python",
   "name": "python",
   "nbconvert_exporter": "python",
   "pygments_lexer": "ipython3",
   "version": "3.6.7"
  }
 },
 "nbformat": 4,
 "nbformat_minor": 2
}
